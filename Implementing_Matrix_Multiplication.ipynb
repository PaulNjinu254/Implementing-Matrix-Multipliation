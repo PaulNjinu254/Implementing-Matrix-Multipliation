{
  "nbformat": 4,
  "nbformat_minor": 0,
  "metadata": {
    "colab": {
      "provenance": [],
      "authorship_tag": "ABX9TyPiyQ8Akp3z9fMmSqXx2Ta3",
      "include_colab_link": true
    },
    "kernelspec": {
      "name": "python3",
      "display_name": "Python 3"
    },
    "language_info": {
      "name": "python"
    }
  },
  "cells": [
    {
      "cell_type": "markdown",
      "metadata": {
        "id": "view-in-github",
        "colab_type": "text"
      },
      "source": [
        "<a href=\"https://colab.research.google.com/github/PaulNjinu254/Implementing-Matrix-Multipliation/blob/main/Implementing_Matrix_Multiplication.ipynb\" target=\"_parent\"><img src=\"https://colab.research.google.com/assets/colab-badge.svg\" alt=\"Open In Colab\"/></a>"
      ]
    },
    {
      "cell_type": "code",
      "execution_count": 13,
      "metadata": {
        "colab": {
          "base_uri": "https://localhost:8080/"
        },
        "id": "zOftySnUwka0",
        "outputId": "88a953e1-eb96-4a59-ea72-8fa8c44f2c2a"
      },
      "outputs": [
        {
          "output_type": "stream",
          "name": "stdout",
          "text": [
            "the solution using np.matmul is: \n",
            " [[  6  29 -20]\n",
            " [ 12  52  38]\n",
            " [-18 -51 -48]]\n",
            "the solution using np.dot is: \n",
            " [[  6  29 -20]\n",
            " [ 12  52  38]\n",
            " [-18 -51 -48]]\n",
            "the solution while using @ is: \n",
            " [[  6  29 -20]\n",
            " [ 12  52  38]\n",
            " [-18 -51 -48]]\n",
            "the solution to the implementation of the hand method by coding is: \n",
            " [[  6.  29. -20.]\n",
            " [ 12.  52.  38.]\n",
            " [-18. -51. -48.]]\n",
            "the matrices are multipicable and the answer is:\n",
            " [[  6  29 -20]\n",
            " [ 12  52  38]\n",
            " [-18 -51 -48]]\n"
          ]
        }
      ],
      "source": [
        "# implementation using the python operators\n",
        "import numpy as np\n",
        "a_ndarray = np.array([[-1, 2, 3], [4, -5, 6], [7, 8, -9]])\n",
        "b_ndarray = np.array([[0, 2, 1], [0, 2, -8], [2, 9, -1]])\n",
        "result = np.matmul(a_ndarray, b_ndarray)\n",
        "print(\"the solution using np.matmul is: \\n\",result)\n",
        "result_1 = np.dot(a_ndarray, b_ndarray)\n",
        "print(\"the solution using np.dot is: \\n\",result_1)\n",
        "result_2 = a_ndarray @ b_ndarray\n",
        "print(\"the solution while using @ is: \\n\",result_2)\n",
        "\n",
        "# implementation of the hand method by coding\n",
        "def matmul_scratch(a, b):\n",
        "    result = np.zeros((a.shape[0], b.shape[1]))  # 結果を格納するための0行列を作成\n",
        "    for i in range(a.shape[0]):\n",
        "        for j in range(b.shape[1]):\n",
        "            for k in range(a.shape[1]):\n",
        "                result[i, j] += a[i, k] * b[k, j]\n",
        "    return result\n",
        "\n",
        "scratch_result = matmul_scratch(a_ndarray, b_ndarray)\n",
        "print(\"the solution to the implementation of the hand method by coding is: \\n\",scratch_result)\n",
        "\n",
        "# checking if the calculation is defined\n",
        "def is_multiplicable(a, b):\n",
        "    if a.shape[1] != b.shape[0]:\n",
        "        print(\"Cannot compute matrix product. The number of columns and rows do not match.\")\n",
        "        return False\n",
        "    return True\n",
        "\n",
        "if is_multiplicable(a_ndarray, b_ndarray):\n",
        "    print(\"the matrices are multipicable and the answer is:\\n\",(np.matmul(a_ndarray, b_ndarray)))"
      ]
    }
  ]
}